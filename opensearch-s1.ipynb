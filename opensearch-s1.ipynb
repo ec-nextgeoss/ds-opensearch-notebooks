{
 "cells": [
  {
   "cell_type": "markdown",
   "metadata": {},
   "source": [
    "## Search for SLC Sentinel-1 products"
   ]
  },
  {
   "cell_type": "code",
   "execution_count": 28,
   "metadata": {},
   "outputs": [
    {
     "name": "stdout",
     "output_type": "stream",
     "text": [
      "\n"
     ]
    }
   ],
   "source": [
    "import lxml.etree as etree\n",
    "import requests\n",
    "import cioppy\n",
    "ciop = cioppy.Cioppy()"
   ]
  },
  {
   "cell_type": "code",
   "execution_count": 29,
   "metadata": {},
   "outputs": [],
   "source": [
    "def get_params(osd):\n",
    "\n",
    "    oss_ns = {'a':'http://www.w3.org/2001/XMLSchema', \n",
    "          'b':'http://www.w3.org/2001/XMLSchema-instance',\n",
    "          'c':'http://a9.com/-/opensearch/extensions/time/1.0/',\n",
    "          'd':'http://www.opengis.net/eop/2.0',\n",
    "          'e':'http://purl.org/dc/terms/',\n",
    "          'f':'http://a9.com/-/spec/opensearch/extensions/parameters/1.0/',\n",
    "          'g':'http://purl.org/dc/elements/1.1/',\n",
    "          'h':'http://www.terradue.com/opensearch',\n",
    "          'i':'http://a9.com/-/opensearch/extensions/geo/1.0/',\n",
    "          'j':'http://a9.com/-/spec/opensearch/1.1/'}\n",
    "    \n",
    "    oss_content = etree.fromstring(requests.get(s1_osd_url).content)\n",
    "    \n",
    "    url_template_element = oss_content.xpath('/j:OpenSearchDescription/j:Url[@type=\"application/atom+xml\"]',\n",
    "                                                 namespaces=oss_ns)[0]\n",
    "    \n",
    "    parameters = dict()\n",
    "    \n",
    "    for index, parameter in enumerate(url_template_element.xpath('.//f:Parameter', namespaces=oss_ns)):\n",
    "        \n",
    "        parameters[parameter.attrib['name']] = {'title' : parameter.attrib['title'], \n",
    "                                                'value' : parameter.attrib['value']}\n",
    "        \n",
    "        options = []\n",
    "        for option in parameter.xpath('.//f:Option', namespaces=oss_ns):\n",
    "            \n",
    "            options.append(option.attrib['value'])\n",
    "    \n",
    "        parameters[parameter.attrib['name']] = {'title' : parameter.attrib['title'], \n",
    "                                                'value' : parameter.attrib['value'],\n",
    "                                                'options' : options}\n",
    "    return parameters"
   ]
  },
  {
   "cell_type": "code",
   "execution_count": 30,
   "metadata": {},
   "outputs": [],
   "source": [
    "def get_param_value(osd, os_parameter):\n",
    "\n",
    "    params = get_params(osd)\n",
    "\n",
    "    res = None\n",
    "    \n",
    "    for index, param in enumerate(params):\n",
    "        \n",
    "        if params[param]['value'] == os_parameter:\n",
    "            \n",
    "            res = params[param]\n",
    "            res['name'] = param\n",
    "     \n",
    "    return res"
   ]
  },
  {
   "cell_type": "markdown",
   "metadata": {},
   "source": [
    "Define the Sentinel-1 endpoint"
   ]
  },
  {
   "cell_type": "code",
   "execution_count": 31,
   "metadata": {},
   "outputs": [],
   "source": [
    "s1_osd_url = 'https://catalog.terradue.com/sentinel1/description'"
   ]
  },
  {
   "cell_type": "markdown",
   "metadata": {},
   "source": [
    "Get the Sentinel-1 search parameters"
   ]
  },
  {
   "cell_type": "code",
   "execution_count": 32,
   "metadata": {},
   "outputs": [],
   "source": [
    "s1_parameters = get_params(s1_osd_url)"
   ]
  },
  {
   "cell_type": "markdown",
   "metadata": {},
   "source": [
    "Print all the OpenSearch parameters"
   ]
  },
  {
   "cell_type": "code",
   "execution_count": 38,
   "metadata": {},
   "outputs": [
    {
     "name": "stdout",
     "output_type": "stream",
     "text": [
      "               {geo:uid?} The identifier of the resource within the search engine context (local reference)\n",
      "    {t2:downloadOrigin?} a string that identifies the download origin (keyword, hostname...) to adapt the enclosure. If the parameter is enclosed between [] (e.g. [terradue]), enclosure will be returned only if there is a enclosure found for this source.\n",
      "           {startIndex?} index of the first search result desired\n",
      "            {startPage?} page number of the set of search results desired\n",
      "       {eop:sensorType?} A string identifying the sensor type\n",
      "     {eop:accessedFrom?} A string identifying the location from which the resource will be accessed. The catalogue shall return the download location in the enclosure atom link according to the parameter value.\n",
      "         {t2:landCover?} A number, set or interval requesting the land coverage\n",
      "      {eop:productType?} A string identifying the product type\n",
      "            {eop:title?} A name given to the resource\n",
      "           {time:start?} start of the temporal interval (RFC-3339)\n",
      "  {eop:swathIdentifier?} Swath identifier that corresponds to precise incidence angles for the sensor\n",
      "         {geo:geometry?} Geometry in WKT\n",
      "         {geo:relation?} Spatial relation (possible values are “intersects”, “contains”, “disjoint”). The default is intersects.\n",
      " {eop:parentIdentifier?} A string identifying the collection of the entry in a hierarchy of dataset\n",
      "  {eop:processingLevel?} A string identifying the processing level applied to the dataset\n",
      "             {language?} desired language of the results\n",
      "{eop:platformSerialIdentifier?} A string with the Platform serial identifier\n",
      "         {eop:platform?} A string with the platform short name\n",
      "            {eop:track?} A number, set or interval requesting the range of orbit tracks \n",
      "{t2:doubleCheckGeomtry?} Set to apply a finer geometry filtering\n",
      "             {time:end?} stop of the temporal interval (RFC-3339)\n",
      "         {dct:modified?} date after which dataset are updated (RFC-3339)\n",
      "              {geo:box?} Rectangular bounding box\n",
      "                {count?} number of search results per page desired\n",
      "        {time:relation?} Temporal relation (possible values are “intersects”, “contains”, “during”, “disjoint”, “equals”)\n",
      "   {eop:orbitDirection?} A string identifying the orbit direction\n",
      "           {dc:subject?} The identifier of a category. Recommended best practice is to use a controlled vocabulary.\n",
      "          {searchTerms?} EO Free Text Search\n",
      "       {eop:instrument?} A string identifying the instrument\n",
      "        {eop:orbitType?} A string identifying the orbit type\n"
     ]
    }
   ],
   "source": [
    "for key, value in s1_parameters.iteritems():\n",
    "\n",
    "    print '%24s' % s1_parameters[key]['value'], s1_parameters[key]['title'] "
   ]
  },
  {
   "cell_type": "markdown",
   "metadata": {},
   "source": [
    "# Find the parameter associated to **'{eop:productType?}'** and its options"
   ]
  },
  {
   "cell_type": "code",
   "execution_count": 9,
   "metadata": {},
   "outputs": [],
   "source": [
    "product_type_parameter = get_param_value(s1_osd_url, '{eop:productType?}')"
   ]
  },
  {
   "cell_type": "code",
   "execution_count": 10,
   "metadata": {},
   "outputs": [
    {
     "data": {
      "text/plain": [
       "'pt'"
      ]
     },
     "execution_count": 10,
     "metadata": {},
     "output_type": "execute_result"
    }
   ],
   "source": [
    "product_type_parameter['name']"
   ]
  },
  {
   "cell_type": "code",
   "execution_count": 19,
   "metadata": {},
   "outputs": [],
   "source": [
    "options = s1_parameters[product_type_parameter['name']]['options']"
   ]
  },
  {
   "cell_type": "code",
   "execution_count": 20,
   "metadata": {},
   "outputs": [
    {
     "data": {
      "text/plain": [
       "['GRD', 'RAW', 'SLC', 'OCN']"
      ]
     },
     "execution_count": 20,
     "metadata": {},
     "output_type": "execute_result"
    }
   ],
   "source": [
    "options"
   ]
  },
  {
   "cell_type": "markdown",
   "metadata": {},
   "source": [
    "Now search for SLC products creating a dictionary with the search parameters"
   ]
  },
  {
   "cell_type": "code",
   "execution_count": 21,
   "metadata": {},
   "outputs": [],
   "source": [
    "search_params = dict([(product_type_parameter['name'], \n",
    "                       options[2])])"
   ]
  },
  {
   "cell_type": "code",
   "execution_count": 22,
   "metadata": {},
   "outputs": [
    {
     "data": {
      "text/plain": [
       "{'pt': 'SLC'}"
      ]
     },
     "execution_count": 22,
     "metadata": {},
     "output_type": "execute_result"
    }
   ],
   "source": [
    "search_params"
   ]
  },
  {
   "cell_type": "code",
   "execution_count": 23,
   "metadata": {},
   "outputs": [],
   "source": [
    "sensor_type_parameter = get_param_value(s1_osd_url, '{eop:sensorType?}')"
   ]
  },
  {
   "cell_type": "code",
   "execution_count": 24,
   "metadata": {},
   "outputs": [
    {
     "data": {
      "text/plain": [
       "'st'"
      ]
     },
     "execution_count": 24,
     "metadata": {},
     "output_type": "execute_result"
    }
   ],
   "source": [
    "sensor_type_parameter['name']"
   ]
  },
  {
   "cell_type": "code",
   "execution_count": 25,
   "metadata": {},
   "outputs": [],
   "source": [
    "options = s1_parameters[sensor_type_parameter['name']]['options']"
   ]
  },
  {
   "cell_type": "code",
   "execution_count": 26,
   "metadata": {},
   "outputs": [],
   "source": [
    "search = ciop.search(end_point=s1_osd_url,\n",
    "                     params=search_params,\n",
    "                     output_fields='self,productType,track,enclosure,identifier,wkt,startdate,enddate', \n",
    "                     model='EOP')"
   ]
  },
  {
   "cell_type": "markdown",
   "metadata": {},
   "source": [
    "Show the first result returned"
   ]
  },
  {
   "cell_type": "code",
   "execution_count": 15,
   "metadata": {},
   "outputs": [
    {
     "data": {
      "text/plain": [
       "{'enclosure': 'https://store.terradue.com/download/sentinel1/files/v1/S1A_IW_SLC__1SDV_20180927T042447_20180927T042504_023879_029B27_4328',\n",
       " 'enddate': '2018-09-27T04:25:04.8860000Z',\n",
       " 'identifier': 'S1A_IW_SLC__1SDV_20180927T042447_20180927T042504_023879_029B27_4328',\n",
       " 'productType': 'SLC',\n",
       " 'self': 'https://catalog.terradue.com/sentinel1/search?format=atom&uid=S1A_IW_SLC__1SDV_20180927T042447_20180927T042504_023879_029B27_4328',\n",
       " 'startdate': '2018-09-27T04:24:47.9700000Z',\n",
       " 'track': '7',\n",
       " 'wkt': 'POLYGON((32.490177 62.343678,27.664557 62.775318,28.017311 63.782429,33.011425 63.343391,32.490177 62.343678))'}"
      ]
     },
     "execution_count": 15,
     "metadata": {},
     "output_type": "execute_result"
    }
   ],
   "source": [
    "search[0]"
   ]
  },
  {
   "cell_type": "markdown",
   "metadata": {},
   "source": [
    "You can, of course, set the search parameters directly with:"
   ]
  },
  {
   "cell_type": "code",
   "execution_count": 16,
   "metadata": {},
   "outputs": [],
   "source": [
    "search = ciop.search(end_point=s1_osd_url,\n",
    "                     params={'pt': 'SLC'},\n",
    "                     output_fields='self,productType,track,enclosure,identifier,wkt,startdate', \n",
    "                     model='EOP')"
   ]
  },
  {
   "cell_type": "code",
   "execution_count": 17,
   "metadata": {},
   "outputs": [
    {
     "data": {
      "text/plain": [
       "{'enclosure': 'https://store.terradue.com/download/sentinel1/files/v1/S1A_IW_SLC__1SDV_20180927T042447_20180927T042504_023879_029B27_4328',\n",
       " 'identifier': 'S1A_IW_SLC__1SDV_20180927T042447_20180927T042504_023879_029B27_4328',\n",
       " 'productType': 'SLC',\n",
       " 'self': 'https://catalog.terradue.com/sentinel1/search?format=atom&uid=S1A_IW_SLC__1SDV_20180927T042447_20180927T042504_023879_029B27_4328',\n",
       " 'startdate': '2018-09-27T04:24:47.9700000Z',\n",
       " 'track': '7',\n",
       " 'wkt': 'POLYGON((32.490177 62.343678,27.664557 62.775318,28.017311 63.782429,33.011425 63.343391,32.490177 62.343678))'}"
      ]
     },
     "execution_count": 17,
     "metadata": {},
     "output_type": "execute_result"
    }
   ],
   "source": [
    "search[0]"
   ]
  },
  {
   "cell_type": "code",
   "execution_count": null,
   "metadata": {},
   "outputs": [],
   "source": []
  }
 ],
 "metadata": {
  "kernelspec": {
   "display_name": "Python 2",
   "language": "python",
   "name": "python2"
  },
  "language_info": {
   "codemirror_mode": {
    "name": "ipython",
    "version": 2
   },
   "file_extension": ".py",
   "mimetype": "text/x-python",
   "name": "python",
   "nbconvert_exporter": "python",
   "pygments_lexer": "ipython2",
   "version": "2.7.12"
  }
 },
 "nbformat": 4,
 "nbformat_minor": 2
}
