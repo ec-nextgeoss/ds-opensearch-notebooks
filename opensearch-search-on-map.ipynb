{
 "cells": [
  {
   "cell_type": "markdown",
   "metadata": {},
   "source": [
    "## Georelation explained"
   ]
  },
  {
   "cell_type": "code",
   "execution_count": 1,
   "metadata": {},
   "outputs": [],
   "source": [
    "import lxml.etree as etree\n",
    "import requests\n",
    "import cioppy\n",
    "\n",
    "import numpy as np\n",
    "import ipyleaflet\n",
    "from shapely.geometry import box\n",
    "from shapely.geometry import multipolygon\n",
    "from shapely.wkt import loads\n",
    "from ipyleaflet import Map, Polygon\n",
    "\n",
    "ciop = cioppy.Cioppy()"
   ]
  },
  {
   "cell_type": "markdown",
   "metadata": {},
   "source": [
    "Define the Sentinel-1 endpoint"
   ]
  },
  {
   "cell_type": "code",
   "execution_count": 2,
   "metadata": {},
   "outputs": [],
   "source": [
    "s1_osd_url = 'https://catalog.terradue.com/sentinel1/description'"
   ]
  },
  {
   "cell_type": "markdown",
   "metadata": {},
   "source": [
    "Define an area of interest with a polygon over Greece expressed as a Well-Known Text:\n"
   ]
  },
  {
   "cell_type": "code",
   "execution_count": 3,
   "metadata": {},
   "outputs": [],
   "source": [
    "aoi_wkt = 'POLYGON ((20.9113 39.4866, 20.9113 40.0866, 20.3113 40.0866, 20.3113 39.4866, 20.9113 39.4866))'"
   ]
  },
  {
   "cell_type": "code",
   "execution_count": 4,
   "metadata": {},
   "outputs": [],
   "source": [
    "search_params = dict([('count', '2'),\n",
    "                      ('geom', aoi_wkt)])"
   ]
  },
  {
   "cell_type": "code",
   "execution_count": 5,
   "metadata": {},
   "outputs": [],
   "source": [
    "search = ciop.search(end_point=s1_osd_url,\n",
    "                     params=search_params,\n",
    "                     output_fields='self,productType,track,enclosure,identifier,wkt,startdate', \n",
    "                     model='EOP')"
   ]
  },
  {
   "cell_type": "code",
   "execution_count": 6,
   "metadata": {},
   "outputs": [
    {
     "data": {
      "text/plain": [
       "[{'enclosure': 'https://store.terradue.com/download/sentinel1/files/v1/S1A_IW_RAW__0SDV_20181002T043940_20181002T044012_023952_029D99_1926',\n",
       "  'identifier': 'S1A_IW_RAW__0SDV_20181002T043940_20181002T044012_023952_029D99_1926',\n",
       "  'productType': 'RAW',\n",
       "  'self': 'https://catalog.terradue.com/sentinel1/search?format=atom&uid=S1A_IW_RAW__0SDV_20181002T043940_20181002T044012_023952_029D99_1926',\n",
       "  'startdate': '2018-10-02T04:39:40.4760000Z',\n",
       "  'track': '80',\n",
       "  'wkt': 'POLYGON((20.0101 39.6281,19.6112 37.6733,22.378 37.403,22.8542 39.3563,20.0101 39.6281))'},\n",
       " {'enclosure': 'https://store.terradue.com/download/sentinel1/files/v1/S1A_IW_SLC__1SDV_20181002T043943_20181002T044010_023952_029D99_07CD',\n",
       "  'identifier': 'S1A_IW_SLC__1SDV_20181002T043943_20181002T044010_023952_029D99_07CD',\n",
       "  'productType': 'SLC',\n",
       "  'self': 'https://catalog.terradue.com/sentinel1/search?format=atom&uid=S1A_IW_SLC__1SDV_20181002T043943_20181002T044010_023952_029D99_07CD',\n",
       "  'startdate': '2018-10-02T04:39:43.1980000Z',\n",
       "  'track': '80',\n",
       "  'wkt': 'POLYGON((22.334694 37.736706,19.457937 38.136993,19.792809 39.763802,22.738396 39.364735,22.334694 37.736706))'}]"
      ]
     },
     "execution_count": 6,
     "metadata": {},
     "output_type": "execute_result"
    }
   ],
   "source": [
    "search"
   ]
  },
  {
   "cell_type": "markdown",
   "metadata": {},
   "source": [
    "The search results provide the product footprint as a Well-Known Text (WKT) Polygon:"
   ]
  },
  {
   "cell_type": "code",
   "execution_count": 7,
   "metadata": {},
   "outputs": [
    {
     "data": {
      "text/plain": [
       "'POLYGON((20.0101 39.6281,19.6112 37.6733,22.378 37.403,22.8542 39.3563,20.0101 39.6281))'"
      ]
     },
     "execution_count": 7,
     "metadata": {},
     "output_type": "execute_result"
    }
   ],
   "source": [
    "search[0]['wkt']"
   ]
  },
  {
   "cell_type": "markdown",
   "metadata": {},
   "source": [
    "This WKT can be loaded and asked for the exterior coordinates as an array:"
   ]
  },
  {
   "cell_type": "code",
   "execution_count": 8,
   "metadata": {},
   "outputs": [
    {
     "data": {
      "text/plain": [
       "[(20.0101, 39.6281),\n",
       " (19.6112, 37.6733),\n",
       " (22.378, 37.403),\n",
       " (22.8542, 39.3563),\n",
       " (20.0101, 39.6281)]"
      ]
     },
     "execution_count": 8,
     "metadata": {},
     "output_type": "execute_result"
    }
   ],
   "source": [
    "loads(search[0]['wkt']).exterior.coords[:]"
   ]
  },
  {
   "cell_type": "markdown",
   "metadata": {},
   "source": [
    "ipyleaflet expects the coordinates in the lat, lon order. Numpy will swap the order of the values with:"
   ]
  },
  {
   "cell_type": "code",
   "execution_count": 9,
   "metadata": {},
   "outputs": [
    {
     "data": {
      "text/plain": [
       "array([[ 39.6281,  20.0101],\n",
       "       [ 37.6733,  19.6112],\n",
       "       [ 37.403 ,  22.378 ],\n",
       "       [ 39.3563,  22.8542],\n",
       "       [ 39.6281,  20.0101]])"
      ]
     },
     "execution_count": 9,
     "metadata": {},
     "output_type": "execute_result"
    }
   ],
   "source": [
    "np.asarray([t[::-1] for t in list(loads(search[0]['wkt']).exterior.coords)])"
   ]
  },
  {
   "cell_type": "code",
   "execution_count": 10,
   "metadata": {},
   "outputs": [
    {
     "data": {
      "text/plain": [
       "[[39.6281, 20.0101],\n",
       " [37.6733, 19.6112],\n",
       " [37.403, 22.378],\n",
       " [39.3563, 22.8542],\n",
       " [39.6281, 20.0101]]"
      ]
     },
     "execution_count": 10,
     "metadata": {},
     "output_type": "execute_result"
    }
   ],
   "source": [
    "np.asarray([t[::-1] for t in list(loads(search[0]['wkt']).exterior.coords)]).tolist()"
   ]
  },
  {
   "cell_type": "markdown",
   "metadata": {},
   "source": [
    "Furthermore, ipyleaflet expects a list so the complete transformation of the WKT expression to ipyleaflet is:"
   ]
  },
  {
   "cell_type": "code",
   "execution_count": 11,
   "metadata": {},
   "outputs": [],
   "source": [
    "search_locations = np.asarray([t[::-1] for t in list(loads(search[0]['wkt']).exterior.coords)]).tolist()"
   ]
  },
  {
   "cell_type": "markdown",
   "metadata": {},
   "source": [
    "Let's apply the same for our AOI:"
   ]
  },
  {
   "cell_type": "code",
   "execution_count": 12,
   "metadata": {},
   "outputs": [],
   "source": [
    "aoi_locations = np.asarray([t[::-1] for t in list(loads(aoi_wkt).exterior.coords)]).tolist()"
   ]
  },
  {
   "cell_type": "markdown",
   "metadata": {},
   "source": [
    "The map will be centered on the AOI centroid:"
   ]
  },
  {
   "cell_type": "code",
   "execution_count": 13,
   "metadata": {},
   "outputs": [],
   "source": [
    "map_center_x = loads(aoi_wkt).centroid.x\n",
    "map_center_y = loads(aoi_wkt).centroid.y"
   ]
  },
  {
   "cell_type": "markdown",
   "metadata": {},
   "source": [
    "Now we'll create the map:"
   ]
  },
  {
   "cell_type": "code",
   "execution_count": 14,
   "metadata": {},
   "outputs": [
    {
     "data": {
      "application/vnd.jupyter.widget-view+json": {
       "model_id": "529b22fd74c84f5a9539403383c1e624",
       "version_major": 2,
       "version_minor": 0
      },
      "text/plain": [
       "Map(basemap={'url': 'https://{s}.tile.openstreetmap.org/{z}/{x}/{y}.png', 'max_zoom': 19, 'attribution': 'Map …"
      ]
     },
     "metadata": {},
     "output_type": "display_data"
    }
   ],
   "source": [
    "m = Map(center=(loads(aoi_wkt).centroid.y, \n",
    "                loads(aoi_wkt).centroid.x), \n",
    "                zoom=6)\n",
    "\n",
    "for index, elem in enumerate(search):\n",
    "\n",
    "    search_locations = np.asarray([t[::-1] for t in list(loads(elem['wkt']).exterior.coords)]).tolist()\n",
    "    \n",
    "    m += Polygon(locations=search_locations,\n",
    "                 color=\"red\",\n",
    "                 fill_color=\"red\",\n",
    "                 weight=1,\n",
    "                 fill_opacity=0.1)\n",
    "\n",
    "m += Polygon(locations=aoi_locations,\n",
    "             color=\"green\",\n",
    "             fill_color=\"green\",\n",
    "             weight=1,\n",
    "             fill_opacity=0.1)\n",
    "m"
   ]
  },
  {
   "cell_type": "code",
   "execution_count": null,
   "metadata": {},
   "outputs": [],
   "source": []
  }
 ],
 "metadata": {
  "kernelspec": {
   "display_name": "Python 2",
   "language": "python",
   "name": "python2"
  },
  "language_info": {
   "codemirror_mode": {
    "name": "ipython",
    "version": 2
   },
   "file_extension": ".py",
   "mimetype": "text/x-python",
   "name": "python",
   "nbconvert_exporter": "python",
   "pygments_lexer": "ipython2",
   "version": "2.7.12"
  }
 },
 "nbformat": 4,
 "nbformat_minor": 2
}
