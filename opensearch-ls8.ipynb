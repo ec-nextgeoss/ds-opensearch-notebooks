{
 "cells": [
  {
   "cell_type": "markdown",
   "metadata": {},
   "source": [
    "## Search for Landsat-8 products using the \"eop:track\" as a queryable"
   ]
  },
  {
   "cell_type": "code",
   "execution_count": 23,
   "metadata": {},
   "outputs": [],
   "source": [
    "import lxml.etree as etree\n",
    "import requests\n",
    "import cioppy\n",
    "ciop = cioppy.Cioppy()"
   ]
  },
  {
   "cell_type": "code",
   "execution_count": 34,
   "metadata": {},
   "outputs": [],
   "source": [
    "def get_params(osd):\n",
    "\n",
    "    oss_ns = {'a':'http://www.w3.org/2001/XMLSchema', \n",
    "          'b':'http://www.w3.org/2001/XMLSchema-instance',\n",
    "          'c':'http://a9.com/-/opensearch/extensions/time/1.0/',\n",
    "          'd':'http://www.opengis.net/eop/2.0',\n",
    "          'e':'http://purl.org/dc/terms/',\n",
    "          'f':'http://a9.com/-/spec/opensearch/extensions/parameters/1.0/',\n",
    "          'g':'http://purl.org/dc/elements/1.1/',\n",
    "          'h':'http://www.terradue.com/opensearch',\n",
    "          'i':'http://a9.com/-/opensearch/extensions/geo/1.0/',\n",
    "          'j':'http://a9.com/-/spec/opensearch/1.1/'}\n",
    "    \n",
    "    oss_content = etree.fromstring(requests.get(osd).content)\n",
    "    \n",
    "    url_template_element = oss_content.xpath('/j:OpenSearchDescription/j:Url[@type=\"application/atom+xml\"]',\n",
    "                                                 namespaces=oss_ns)[0]\n",
    "    \n",
    "    parameters = dict()\n",
    "    \n",
    "    for index, parameter in enumerate(url_template_element.xpath('.//f:Parameter', namespaces=oss_ns)):\n",
    "        \n",
    "        parameters[parameter.attrib['name']] = {'title' : parameter.attrib['title'], \n",
    "                                                'value' : parameter.attrib['value']}\n",
    "        \n",
    "        options = []\n",
    "        for option in parameter.xpath('.//f:Option', namespaces=oss_ns):\n",
    "            \n",
    "            options.append(option.attrib['value'])\n",
    "    \n",
    "        parameters[parameter.attrib['name']] = {'title' : parameter.attrib['title'], \n",
    "                                                'value' : parameter.attrib['value'],\n",
    "                                                'options' : options}\n",
    "    return parameters"
   ]
  },
  {
   "cell_type": "code",
   "execution_count": 35,
   "metadata": {},
   "outputs": [],
   "source": [
    "def get_param_value(osd, os_parameter):\n",
    "\n",
    "    params = get_params(osd)\n",
    "\n",
    "    res = None\n",
    "    \n",
    "    for index, param in enumerate(params):\n",
    "        \n",
    "        if params[param]['value'] == os_parameter:\n",
    "            \n",
    "            res = params[param]\n",
    "            res['name'] = param\n",
    "     \n",
    "    return res"
   ]
  },
  {
   "cell_type": "markdown",
   "metadata": {},
   "source": [
    "Define the Landsat-8 endpoint"
   ]
  },
  {
   "cell_type": "code",
   "execution_count": 36,
   "metadata": {},
   "outputs": [],
   "source": [
    "osd_url = 'https://catalog.terradue.com/landsat8/description'"
   ]
  },
  {
   "cell_type": "markdown",
   "metadata": {},
   "source": [
    "Get the Landsat-8 search parameters"
   ]
  },
  {
   "cell_type": "code",
   "execution_count": 37,
   "metadata": {},
   "outputs": [],
   "source": [
    "ls8_parameters = get_params(osd_url)"
   ]
  },
  {
   "cell_type": "markdown",
   "metadata": {},
   "source": [
    "Print all the OpenSearch parameters"
   ]
  },
  {
   "cell_type": "code",
   "execution_count": 38,
   "metadata": {},
   "outputs": [
    {
     "name": "stdout",
     "output_type": "stream",
     "text": [
      "              {geo:uid?} The identifier of the resource within the search engine context (local reference)\n",
      "    {t2:downloadOrigin?} a string that identifies the download origin (keyword, hostname...) to adapt the enclosure. If the parameter is enclosed between [] (e.g. [terradue]), enclosure will be returned only if there is a enclosure found for this source.\n",
      "       {eop:cloudCover?} A number, set or interval requesting the cloud coverage\n",
      "            {eop:frame?} A number, set or interval requesting the range of orbit frames\n",
      "           {startIndex?} index of the first search result desired\n",
      "            {startPage?} page number of the set of search results desired\n",
      "       {eop:sensorType?} A string identifying the sensor type\n",
      "     {eop:accessedFrom?} A string identifying the location from which the resource will be accessed. The catalogue shall return the download location in the enclosure atom link according to the parameter value.\n",
      "         {t2:landCover?} A number, set or interval requesting the land coverage\n",
      "      {eop:productType?} A string identifying the product type\n",
      "            {eop:title?} A name given to the resource\n",
      "           {time:start?} start of the temporal interval (RFC-3339)\n",
      "         {geo:geometry?} Geometry in WKT\n",
      "         {geo:relation?} Spatial relation (possible values are “intersects”, “contains”, “disjoint”). The default is intersects.\n",
      " {eop:parentIdentifier?} A string identifying the collection of the entry in a hierarchy of dataset\n",
      "  {eop:processingLevel?} A string identifying the processing level applied to the dataset\n",
      "             {language?} desired language of the results\n",
      "         {eop:platform?} A string with the platform short name\n",
      "            {eop:track?} A number, set or interval requesting the range of orbit tracks \n",
      "{t2:doubleCheckGeomtry?} Set to apply a finer geometry filtering\n",
      "             {time:end?} stop of the temporal interval (RFC-3339)\n",
      "         {dct:modified?} date after which dataset are updated (RFC-3339)\n",
      "              {geo:box?} Rectangular bounding box\n",
      "                {count?} number of search results per page desired\n",
      "        {time:relation?} Temporal relation (possible values are “intersects”, “contains”, “during”, “disjoint”, “equals”)\n",
      "   {eop:orbitDirection?} A string identifying the orbit direction\n",
      "           {dc:subject?} The identifier of a category. Recommended best practice is to use a controlled vocabulary.\n",
      "          {searchTerms?} EO Free Text Search\n",
      "       {eop:instrument?} A string identifying the instrument\n",
      "        {eop:orbitType?} A string identifying the orbit type\n"
     ]
    }
   ],
   "source": [
    "for key, value in ls8_parameters.iteritems():\n",
    "\n",
    "    print '%24s' % ls8_parameters[key]['value'],  ls8_parameters[key]['title'] "
   ]
  },
  {
   "cell_type": "markdown",
   "metadata": {},
   "source": [
    "Find the parameter associated to **'{eop:wrsLongitudeGrid?}'** and its options"
   ]
  },
  {
   "cell_type": "code",
   "execution_count": 41,
   "metadata": {},
   "outputs": [],
   "source": [
    "product_type_parameter = get_param_value(osd_url, '{eop:track?}')"
   ]
  },
  {
   "cell_type": "code",
   "execution_count": 42,
   "metadata": {},
   "outputs": [
    {
     "data": {
      "text/plain": [
       "'track'"
      ]
     },
     "execution_count": 42,
     "metadata": {},
     "output_type": "execute_result"
    }
   ],
   "source": [
    "product_type_parameter['name']"
   ]
  },
  {
   "cell_type": "markdown",
   "metadata": {},
   "source": [
    "Now search for Landsat-8 products creating a dictionary with the search parameters"
   ]
  },
  {
   "cell_type": "code",
   "execution_count": 43,
   "metadata": {},
   "outputs": [],
   "source": [
    "search_params = dict([(product_type_parameter['name'], \n",
    "                       '160')])"
   ]
  },
  {
   "cell_type": "code",
   "execution_count": 44,
   "metadata": {},
   "outputs": [
    {
     "data": {
      "text/plain": [
       "{'track': '160'}"
      ]
     },
     "execution_count": 44,
     "metadata": {},
     "output_type": "execute_result"
    }
   ],
   "source": [
    "search_params"
   ]
  },
  {
   "cell_type": "code",
   "execution_count": 47,
   "metadata": {},
   "outputs": [],
   "source": [
    "search = ciop.search(end_point=osd_url,\n",
    "                     params=search_params,\n",
    "                     output_fields='self,productType,track,enclosure,identifier,wkt,startdate', \n",
    "                     model='EOP')"
   ]
  },
  {
   "cell_type": "markdown",
   "metadata": {},
   "source": [
    "Show the first result returned"
   ]
  },
  {
   "cell_type": "code",
   "execution_count": 46,
   "metadata": {},
   "outputs": [
    {
     "data": {
      "text/plain": [
       "{'enclosure': 'https://store.terradue.com/download/landsat8/files/v1/LC08_L1GT_160131_20171220_20171224_01_T2',\n",
       " 'identifier': 'LC08_L1GT_160131_20171220_20171224_01_T2',\n",
       " 'productType': 'L1GT',\n",
       " 'self': 'https://catalog.terradue.com/landsat8/search?format=atom&uid=LC08_L1GT_160131_20171220_20171224_01_T2',\n",
       " 'startdate': '2017-12-20T07:21:38.1610000Z',\n",
       " 'track': '160',\n",
       " 'wkt': 'POLYGON((-104.89087 -73.49071,-110.32266 -74.41859,-106.86865 -75.91225,-101.12939 -74.89784,-104.89087 -73.49071))'}"
      ]
     },
     "execution_count": 46,
     "metadata": {},
     "output_type": "execute_result"
    }
   ],
   "source": [
    "search[0]"
   ]
  },
  {
   "cell_type": "markdown",
   "metadata": {},
   "source": [
    "You can of course write the search parameters directly with:\n"
   ]
  },
  {
   "cell_type": "code",
   "execution_count": 48,
   "metadata": {},
   "outputs": [],
   "source": [
    "search = ciop.search(end_point=osd_url,\n",
    "                     params={'track': '160'},\n",
    "                     output_fields='self,productType,track,enclosure,identifier,wkt,startdate', \n",
    "                     model='EOP')"
   ]
  },
  {
   "cell_type": "code",
   "execution_count": 49,
   "metadata": {},
   "outputs": [
    {
     "data": {
      "text/plain": [
       "{'enclosure': 'https://store.terradue.com/download/landsat8/files/v1/LC08_L1GT_160248_20180801_20180814_01_T2',\n",
       " 'identifier': 'LC08_L1GT_160248_20180801_20180814_01_T2',\n",
       " 'productType': 'L1GT',\n",
       " 'self': 'https://catalog.terradue.com/landsat8/search?format=atom&uid=LC08_L1GT_160248_20180801_20180814_01_T2',\n",
       " 'startdate': '2018-08-01T08:07:22.5870000Z',\n",
       " 'track': '160',\n",
       " 'wkt': 'POLYGON((93.72668 81.78101,98.2809 80.20382,108.40676 80.72759,105.58563 82.40689,93.72668 81.78101))'}"
      ]
     },
     "execution_count": 49,
     "metadata": {},
     "output_type": "execute_result"
    }
   ],
   "source": [
    "search[0]"
   ]
  },
  {
   "cell_type": "code",
   "execution_count": null,
   "metadata": {},
   "outputs": [],
   "source": []
  }
 ],
 "metadata": {
  "kernelspec": {
   "display_name": "Python 2",
   "language": "python",
   "name": "python2"
  },
  "language_info": {
   "codemirror_mode": {
    "name": "ipython",
    "version": 2
   },
   "file_extension": ".py",
   "mimetype": "text/x-python",
   "name": "python",
   "nbconvert_exporter": "python",
   "pygments_lexer": "ipython2",
   "version": "2.7.12"
  }
 },
 "nbformat": 4,
 "nbformat_minor": 2
}
