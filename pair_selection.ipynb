{
 "cells": [
  {
   "cell_type": "markdown",
   "metadata": {},
   "source": [
    "## Pair selection"
   ]
  },
  {
   "cell_type": "markdown",
   "metadata": {},
   "source": [
    "This Jupyter Notebook to query the catalog for a pair of Sentinel-1 SLC products"
   ]
  },
  {
   "cell_type": "markdown",
   "metadata": {},
   "source": [
    "* First do the imports of the Python libraries required"
   ]
  },
  {
   "cell_type": "code",
   "execution_count": 1,
   "metadata": {},
   "outputs": [],
   "source": [
    "import os\n",
    "import lxml.etree as etree\n",
    "import cioppy\n",
    "from datetime import datetime, timedelta \n",
    "import dateutil.parser \n",
    "from shapely.wkt import loads \n",
    "\n",
    "\n",
    "from nbconvert.preprocessors import ExecutePreprocessor, CellExecutionError\n",
    "import nbformat as nbf\n",
    "\n",
    "import geopandas as gp\n",
    "\n",
    "import numpy as np\n",
    "import ipyleaflet\n",
    "from shapely.geometry import box\n",
    "from shapely.geometry import multipolygon\n",
    "from shapely.wkt import loads\n",
    "from ipyleaflet import Map, Polygon"
   ]
  },
  {
   "cell_type": "markdown",
   "metadata": {},
   "source": [
    "* Define the search parameters: the catalog series OpenSearch endpoint, the time of interest and the area of interest"
   ]
  },
  {
   "cell_type": "code",
   "execution_count": 2,
   "metadata": {},
   "outputs": [],
   "source": [
    "series = 'https://catalog.terradue.com/sentinel1/search'\n",
    "\n",
    "s1_prd_type = 'SLC'\n",
    "\n",
    "crop_wkt = 'POLYGON((9.789267467315815 13.545328656445236,9.789267467315815 13.293608039872737,9.963279058576214 13.289265722304478,9.952124469392855 13.538821973353123,9.789267467315815 13.545328656445236,9.789267467315815 13.545328656445236))'\n"
   ]
  },
  {
   "cell_type": "markdown",
   "metadata": {},
   "source": [
    "### Search for a master"
   ]
  },
  {
   "cell_type": "code",
   "execution_count": 3,
   "metadata": {},
   "outputs": [],
   "source": [
    "slave_self = 'https://catalog.terradue.com/sentinel1/search?uid=S1B_S1_SLC__1SDV_20180907T172154_20180907T172223_012612_017456_AB33'\n",
    "aoi = loads(crop_wkt)\n",
    "            \n",
    "            "
   ]
  },
  {
   "cell_type": "code",
   "execution_count": 4,
   "metadata": {},
   "outputs": [],
   "source": [
    "ciop = cioppy.Cioppy()\n",
    "# get the slave metadata \n",
    "slave_search = ciop.search(end_point = slave_self,\n",
    "                                   params = [],\n",
    "                                   output_fields='self,productType,track,enclosure,identifier,wkt,startdate', \n",
    "                                   model='EOP')"
   ]
  },
  {
   "cell_type": "code",
   "execution_count": 5,
   "metadata": {},
   "outputs": [],
   "source": [
    "slave = slave_search[0]\n",
    "        \n",
    "# look for a master up to one cycle in the past\n",
    "master_search_start_date = (dateutil.parser.parse(slave['startdate']) + timedelta(days=-12)).isoformat()\n",
    "master_search_stop_date = (dateutil.parser.parse(slave['startdate']) + timedelta(days=-1)).isoformat()\n",
    "                \n",
    "# do the catalogue search    \n",
    "master_search_params = dict([('geom', slave['wkt']),\n",
    "                                     ('track', slave['track']),\n",
    "                                     ('pt',slave['productType']),\n",
    "                                     ('start', master_search_start_date),\n",
    "                                     ('stop', master_search_stop_date),\n",
    "                                     ('q', 'sensorOperationalMode.text:S*')])\n",
    "        \n",
    "series = 'https://catalog.terradue.com/sentinel1/search'\n",
    "\n",
    "master_search = ciop.search(end_point=series, \n",
    "                                   params=master_search_params,\n",
    "                                   output_fields='identifier,enclosure,wkt,self,startdate',\n",
    "                                   model='EOP')\n",
    "        \n",
    "result = []\n",
    "\n",
    "# build a data frame \n",
    "for index, elem in enumerate(master_search):\n",
    "                 \n",
    "    master_wkt = loads(elem['wkt'])\n",
    "    \n",
    "    result.append({'self' : elem['self'],\n",
    "                           'identifier' : elem['identifier'],\n",
    "                           'enclosure' : elem['enclosure'],\n",
    "                           'wkt': loads(elem['wkt']),\n",
    "                           'aoi_intersec' : (master_wkt.intersection(aoi).area/aoi.area) * 100,\n",
    "                           'slave_intersec' : (master_wkt.intersection(loads(slave['wkt']))).area / loads(slave['wkt']).area * 100,\n",
    "                           'contains': master_wkt.contains(aoi),\n",
    "                           'days': (dateutil.parser.parse(slave['startdate'])- dateutil.parser.parse(elem['startdate'])).days\n",
    "                          })\n",
    "\n",
    "masters = gp.GeoDataFrame(result)"
   ]
  },
  {
   "cell_type": "code",
   "execution_count": 6,
   "metadata": {},
   "outputs": [
    {
     "data": {
      "text/html": [
       "<div>\n",
       "<style scoped>\n",
       "    .dataframe tbody tr th:only-of-type {\n",
       "        vertical-align: middle;\n",
       "    }\n",
       "\n",
       "    .dataframe tbody tr th {\n",
       "        vertical-align: top;\n",
       "    }\n",
       "\n",
       "    .dataframe thead th {\n",
       "        text-align: right;\n",
       "    }\n",
       "</style>\n",
       "<table border=\"1\" class=\"dataframe\">\n",
       "  <thead>\n",
       "    <tr style=\"text-align: right;\">\n",
       "      <th></th>\n",
       "      <th>aoi_intersec</th>\n",
       "      <th>contains</th>\n",
       "      <th>days</th>\n",
       "      <th>enclosure</th>\n",
       "      <th>identifier</th>\n",
       "      <th>self</th>\n",
       "      <th>slave_intersec</th>\n",
       "      <th>wkt</th>\n",
       "    </tr>\n",
       "  </thead>\n",
       "  <tbody>\n",
       "    <tr>\n",
       "      <th>0</th>\n",
       "      <td>0.0</td>\n",
       "      <td>False</td>\n",
       "      <td>11</td>\n",
       "      <td>https://scihub.copernicus.eu/apihub/odata/v1/P...</td>\n",
       "      <td>S1B_S1_SLC__1SDV_20180826T172222_20180826T1722...</td>\n",
       "      <td>https://catalog.terradue.com/sentinel1/search?...</td>\n",
       "      <td>0.000000</td>\n",
       "      <td>POLYGON ((9.313912 15.268483, 10.046239 15.413...</td>\n",
       "    </tr>\n",
       "    <tr>\n",
       "      <th>1</th>\n",
       "      <td>100.0</td>\n",
       "      <td>True</td>\n",
       "      <td>12</td>\n",
       "      <td>https://scihub.copernicus.eu/apihub/odata/v1/P...</td>\n",
       "      <td>S1B_S1_SLC__1SDV_20180826T172154_20180826T1722...</td>\n",
       "      <td>https://catalog.terradue.com/sentinel1/search?...</td>\n",
       "      <td>99.951386</td>\n",
       "      <td>POLYGON ((9.521246 14.294063, 10.250069 14.439...</td>\n",
       "    </tr>\n",
       "  </tbody>\n",
       "</table>\n",
       "</div>"
      ],
      "text/plain": [
       "   aoi_intersec  contains  days  \\\n",
       "0           0.0     False    11   \n",
       "1         100.0      True    12   \n",
       "\n",
       "                                           enclosure  \\\n",
       "0  https://scihub.copernicus.eu/apihub/odata/v1/P...   \n",
       "1  https://scihub.copernicus.eu/apihub/odata/v1/P...   \n",
       "\n",
       "                                          identifier  \\\n",
       "0  S1B_S1_SLC__1SDV_20180826T172222_20180826T1722...   \n",
       "1  S1B_S1_SLC__1SDV_20180826T172154_20180826T1722...   \n",
       "\n",
       "                                                self  slave_intersec  \\\n",
       "0  https://catalog.terradue.com/sentinel1/search?...        0.000000   \n",
       "1  https://catalog.terradue.com/sentinel1/search?...       99.951386   \n",
       "\n",
       "                                                 wkt  \n",
       "0  POLYGON ((9.313912 15.268483, 10.046239 15.413...  \n",
       "1  POLYGON ((9.521246 14.294063, 10.250069 14.439...  "
      ]
     },
     "execution_count": 6,
     "metadata": {},
     "output_type": "execute_result"
    }
   ],
   "source": [
    "masters"
   ]
  },
  {
   "cell_type": "code",
   "execution_count": 12,
   "metadata": {},
   "outputs": [
    {
     "name": "stdout",
     "output_type": "stream",
     "text": [
      "S1B_S1_SLC__1SDV_20180826T172154_20180826T172222_012437_016EEF_6AFD\n"
     ]
    }
   ],
   "source": [
    "# select the master \n",
    "master = master_search[masters.sort_values(['aoi_intersec', 'days'], \n",
    "                                                   ascending=[False, False]).iloc[0].name]\n",
    "print master['identifier']"
   ]
  },
  {
   "cell_type": "code",
   "execution_count": 8,
   "metadata": {},
   "outputs": [
    {
     "name": "stdout",
     "output_type": "stream",
     "text": [
      "S1B_S1_SLC__1SDV_20180907T172154_20180907T172223_012612_017456_AB33\n"
     ]
    }
   ],
   "source": [
    "print slave['identifier']"
   ]
  },
  {
   "cell_type": "code",
   "execution_count": 9,
   "metadata": {},
   "outputs": [],
   "source": [
    "source = '%s,%s' % (master['self'],\n",
    "                   slave['self'])"
   ]
  },
  {
   "cell_type": "code",
   "execution_count": 11,
   "metadata": {},
   "outputs": [
    {
     "data": {
      "text/plain": [
       "'https://catalog.terradue.com/sentinel1/search?format=atom&uid=S1B_S1_SLC__1SDV_20180826T172154_20180826T172222_012437_016EEF_6AFD,https://catalog.terradue.com/sentinel1/search?format=atom&uid=S1B_S1_SLC__1SDV_20180907T172154_20180907T172223_012612_017456_AB33'"
      ]
     },
     "execution_count": 11,
     "metadata": {},
     "output_type": "execute_result"
    }
   ],
   "source": [
    "source"
   ]
  }
 ],
 "metadata": {
  "kernelspec": {
   "display_name": "Python 2",
   "language": "python",
   "name": "python2"
  },
  "language_info": {
   "codemirror_mode": {
    "name": "ipython",
    "version": 2
   },
   "file_extension": ".py",
   "mimetype": "text/x-python",
   "name": "python",
   "nbconvert_exporter": "python",
   "pygments_lexer": "ipython2",
   "version": "2.7.12"
  }
 },
 "nbformat": 4,
 "nbformat_minor": 2
}
