{
 "cells": [
  {
   "cell_type": "markdown",
   "metadata": {},
   "source": [
    "## Georelation explained"
   ]
  },
  {
   "cell_type": "code",
   "execution_count": 2,
   "metadata": {},
   "outputs": [],
   "source": [
    "import lxml.etree as etree\n",
    "import requests\n",
    "import cioppy\n",
    "\n",
    "import numpy as np\n",
    "import ipyleaflet\n",
    "from shapely.geometry import box\n",
    "from shapely.geometry import multipolygon\n",
    "from shapely.wkt import loads\n",
    "from ipyleaflet import Map, Polygon\n",
    "\n",
    "ciop = cioppy.Cioppy()"
   ]
  },
  {
   "cell_type": "code",
   "execution_count": 3,
   "metadata": {},
   "outputs": [],
   "source": [
    "def get_params(osd):\n",
    "\n",
    "    oss_ns = {'a':'http://www.w3.org/2001/XMLSchema', \n",
    "          'b':'http://www.w3.org/2001/XMLSchema-instance',\n",
    "          'c':'http://a9.com/-/opensearch/extensions/time/1.0/',\n",
    "          'd':'http://www.opengis.net/eop/2.0',\n",
    "          'e':'http://purl.org/dc/terms/',\n",
    "          'f':'http://a9.com/-/spec/opensearch/extensions/parameters/1.0/',\n",
    "          'g':'http://purl.org/dc/elements/1.1/',\n",
    "          'h':'http://www.terradue.com/opensearch',\n",
    "          'i':'http://a9.com/-/opensearch/extensions/geo/1.0/',\n",
    "          'j':'http://a9.com/-/spec/opensearch/1.1/'}\n",
    "    \n",
    "    oss_content = etree.fromstring(requests.get(osd).content)\n",
    "    \n",
    "    url_template_element = oss_content.xpath('/j:OpenSearchDescription/j:Url[@type=\"application/atom+xml\"]',\n",
    "                                                 namespaces=oss_ns)[0]\n",
    "    \n",
    "    parameters = dict()\n",
    "    \n",
    "    for index, parameter in enumerate(url_template_element.xpath('.//f:Parameter', namespaces=oss_ns)):\n",
    "        \n",
    "        parameters[parameter.attrib['name']] = {'title' : parameter.attrib['title'], \n",
    "                                                'value' : parameter.attrib['value']}\n",
    "        \n",
    "        options = []\n",
    "        for option in parameter.xpath('.//f:Option', namespaces=oss_ns):\n",
    "            \n",
    "            options.append(option.attrib['value'])\n",
    "    \n",
    "        parameters[parameter.attrib['name']] = {'title' : parameter.attrib['title'], \n",
    "                                                'value' : parameter.attrib['value'],\n",
    "                                                'options' : options}\n",
    "    return parameters"
   ]
  },
  {
   "cell_type": "code",
   "execution_count": 4,
   "metadata": {},
   "outputs": [],
   "source": [
    "def get_param_value(osd, os_parameter):\n",
    "\n",
    "    params = get_params(osd)\n",
    "\n",
    "    res = None\n",
    "    \n",
    "    for index, param in enumerate(params):\n",
    "        \n",
    "        if params[param]['value'] == os_parameter:\n",
    "            \n",
    "            res = params[param]\n",
    "            res['name'] = param\n",
    "     \n",
    "    return res"
   ]
  },
  {
   "cell_type": "markdown",
   "metadata": {},
   "source": [
    "Define the Sentinel-1 endpoint"
   ]
  },
  {
   "cell_type": "code",
   "execution_count": 5,
   "metadata": {},
   "outputs": [],
   "source": [
    "s1_osd_url = 'https://catalog.terradue.com/sentinel1/description'"
   ]
  },
  {
   "cell_type": "markdown",
   "metadata": {},
   "source": [
    "Get the Sentinel-1 search parameters"
   ]
  },
  {
   "cell_type": "code",
   "execution_count": 6,
   "metadata": {},
   "outputs": [],
   "source": [
    "s1_parameters = get_params(s1_osd_url)"
   ]
  },
  {
   "cell_type": "markdown",
   "metadata": {},
   "source": [
    "Print all the OpenSearch parameters"
   ]
  },
  {
   "cell_type": "code",
   "execution_count": 7,
   "metadata": {},
   "outputs": [
    {
     "name": "stdout",
     "output_type": "stream",
     "text": [
      "              {geo:uid?} The identifier of the resource within the search engine context (local reference)\n",
      "    {t2:downloadOrigin?} a string that identifies the download origin (keyword, hostname...) to adapt the enclosure. If the parameter is enclosed between [] (e.g. [terradue]), enclosure will be returned only if there is a enclosure found for this source.\n",
      "           {startIndex?} index of the first search result desired\n",
      "            {startPage?} page number of the set of search results desired\n",
      "       {eop:sensorType?} A string identifying the sensor type\n",
      "     {eop:accessedFrom?} A string identifying the location from which the resource will be accessed. The catalogue shall return the download location in the enclosure atom link according to the parameter value.\n",
      "         {t2:landCover?} A number, set or interval requesting the land coverage\n",
      "      {eop:productType?} A string identifying the product type\n",
      "            {eop:title?} A name given to the resource\n",
      "           {time:start?} start of the temporal interval (RFC-3339)\n",
      "  {eop:swathIdentifier?} Swath identifier that corresponds to precise incidence angles for the sensor\n",
      "         {geo:geometry?} Geometry in WKT\n",
      "         {geo:relation?} Spatial relation (possible values are “intersects”, “contains”, “disjoint”). The default is intersects.\n",
      " {eop:parentIdentifier?} A string identifying the collection of the entry in a hierarchy of dataset\n",
      "  {eop:processingLevel?} A string identifying the processing level applied to the dataset\n",
      "             {language?} desired language of the results\n",
      "{eop:platformSerialIdentifier?} A string with the Platform serial identifier\n",
      "         {eop:platform?} A string with the platform short name\n",
      "            {eop:track?} A number, set or interval requesting the range of orbit tracks \n",
      "{t2:doubleCheckGeomtry?} Set to apply a finer geometry filtering\n",
      "             {time:end?} stop of the temporal interval (RFC-3339)\n",
      "         {dct:modified?} date after which dataset are updated (RFC-3339)\n",
      "              {geo:box?} Rectangular bounding box\n",
      "                {count?} number of search results per page desired\n",
      "        {time:relation?} Temporal relation (possible values are “intersects”, “contains”, “during”, “disjoint”, “equals”)\n",
      "   {eop:orbitDirection?} A string identifying the orbit direction\n",
      "           {dc:subject?} The identifier of a category. Recommended best practice is to use a controlled vocabulary.\n",
      "          {searchTerms?} EO Free Text Search\n",
      "       {eop:instrument?} A string identifying the instrument\n",
      "        {eop:orbitType?} A string identifying the orbit type\n"
     ]
    }
   ],
   "source": [
    "for key, value in s1_parameters.iteritems():\n",
    "\n",
    "    print '%24s' % s1_parameters[key]['value'],  s1_parameters[key]['title'] "
   ]
  },
  {
   "cell_type": "markdown",
   "metadata": {},
   "source": [
    "Find the parameter associated to **'{eop:productType?}'** and its options"
   ]
  },
  {
   "cell_type": "code",
   "execution_count": 8,
   "metadata": {},
   "outputs": [],
   "source": [
    "geo_relation_parameter = get_param_value(s1_osd_url, '{geo:relation?}')"
   ]
  },
  {
   "cell_type": "code",
   "execution_count": 9,
   "metadata": {},
   "outputs": [
    {
     "data": {
      "text/plain": [
       "'rel'"
      ]
     },
     "execution_count": 9,
     "metadata": {},
     "output_type": "execute_result"
    }
   ],
   "source": [
    "geo_relation_parameter['name']"
   ]
  },
  {
   "cell_type": "code",
   "execution_count": 10,
   "metadata": {},
   "outputs": [],
   "source": [
    "options = s1_parameters[geo_relation_parameter['name']]['options']"
   ]
  },
  {
   "cell_type": "code",
   "execution_count": 11,
   "metadata": {},
   "outputs": [
    {
     "data": {
      "text/plain": [
       "['intersects', 'contains', 'disjoint']"
      ]
     },
     "execution_count": 11,
     "metadata": {},
     "output_type": "execute_result"
    }
   ],
   "source": [
    "options"
   ]
  },
  {
   "cell_type": "markdown",
   "metadata": {},
   "source": [
    "Define an area of interest"
   ]
  },
  {
   "cell_type": "code",
   "execution_count": 12,
   "metadata": {},
   "outputs": [],
   "source": [
    "aoi_wkt = 'POLYGON ((20.9113 39.4866, 20.9113 40.0866, 20.3113 40.0866, 20.3113 39.4866, 20.9113 39.4866))'"
   ]
  },
  {
   "cell_type": "markdown",
   "metadata": {},
   "source": [
    "Find the **{geo:geometry?}** parameter name"
   ]
  },
  {
   "cell_type": "code",
   "execution_count": 13,
   "metadata": {},
   "outputs": [],
   "source": [
    "wkt_parameter = get_param_value(s1_osd_url, '{geo:geometry?}')"
   ]
  },
  {
   "cell_type": "code",
   "execution_count": 15,
   "metadata": {},
   "outputs": [
    {
     "data": {
      "text/plain": [
       "{'name': 'geom',\n",
       " 'options': [],\n",
       " 'title': 'Geometry in WKT',\n",
       " 'value': '{geo:geometry?}'}"
      ]
     },
     "execution_count": 15,
     "metadata": {},
     "output_type": "execute_result"
    }
   ],
   "source": [
    "wkt_parameter"
   ]
  },
  {
   "cell_type": "markdown",
   "metadata": {},
   "source": [
    "### Relation intersects"
   ]
  },
  {
   "cell_type": "code",
   "execution_count": 16,
   "metadata": {},
   "outputs": [],
   "source": [
    "search_params = dict([(geo_relation_parameter['name'], \n",
    "                       options[0]),\n",
    "                    (wkt_parameter['name'], aoi_wkt)])"
   ]
  },
  {
   "cell_type": "code",
   "execution_count": 17,
   "metadata": {},
   "outputs": [
    {
     "data": {
      "text/plain": [
       "{'geom': 'POLYGON ((20.9113 39.4866, 20.9113 40.0866, 20.3113 40.0866, 20.3113 39.4866, 20.9113 39.4866))',\n",
       " 'rel': 'intersects'}"
      ]
     },
     "execution_count": 17,
     "metadata": {},
     "output_type": "execute_result"
    }
   ],
   "source": [
    "search_params"
   ]
  },
  {
   "cell_type": "code",
   "execution_count": 31,
   "metadata": {},
   "outputs": [],
   "source": [
    "search = ciop.search(end_point=s1_osd_url,\n",
    "                     params=search_params,\n",
    "                     output_fields='self,productType,track,enclosure,identifier,wkt,startdate', \n",
    "                     model='EOP')"
   ]
  },
  {
   "cell_type": "markdown",
   "metadata": {},
   "source": [
    "Show the first result returned"
   ]
  },
  {
   "cell_type": "code",
   "execution_count": 41,
   "metadata": {},
   "outputs": [
    {
     "name": "stdout",
     "output_type": "stream",
     "text": [
      "S1B_IW_RAW__0SDV_20181021T162349_20181021T162421_013253_018804_96CD\n",
      "S1B_IW_SLC__1SDV_20181021T162351_20181021T162418_013253_018804_7F52\n",
      "S1B_IW_GRDH_1SDV_20181021T162352_20181021T162417_013253_018804_B781\n",
      "S1B_IW_RAW__0SDV_20181021T162324_20181021T162356_013253_018804_E4EF\n",
      "S1B_IW_SLC__1SDV_20181021T162326_20181021T162354_013253_018804_4BBD\n",
      "S1B_IW_GRDH_1SDV_20181021T162327_20181021T162352_013253_018804_3E9D\n",
      "S1B_IW_OCN__2SDV_20181021T162327_20181021T162352_013253_018804_2A11\n",
      "S1B_IW_RAW__0SDV_20181021T162259_20181021T162331_013253_018804_D713\n",
      "S1A_IW_RAW__0SDV_20181021T043148_20181021T043221_024229_02A69F_F9F8\n",
      "S1A_IW_SLC__1SDV_20181021T043151_20181021T043218_024229_02A69F_122B\n",
      "S1A_IW_OCN__2SDV_20181021T043152_20181021T043217_024229_02A69F_5AAE\n",
      "S1A_IW_GRDH_1SDV_20181021T043152_20181021T043217_024229_02A69F_C169\n",
      "S1A_IW_SLC__1SDV_20181021T043126_20181021T043153_024229_02A69F_FFAB\n",
      "S1A_IW_OCN__2SDV_20181021T043127_20181021T043152_024229_02A69F_7132\n",
      "S1A_IW_GRDH_1SDV_20181021T043127_20181021T043152_024229_02A69F_50B2\n",
      "S1A_IW_RAW__0SDV_20181020T163241_20181020T163313_024222_02A667_CF76\n",
      "S1A_IW_SLC__1SDV_20181020T163244_20181020T163311_024222_02A667_35E7\n",
      "S1A_IW_OCN__2SDV_20181020T163245_20181020T163310_024222_02A667_643B\n",
      "S1A_IW_GRDH_1SDV_20181020T163245_20181020T163310_024222_02A667_C465\n",
      "S1A_IW_RAW__0SDV_20181020T163216_20181020T163248_024222_02A667_33C6\n"
     ]
    }
   ],
   "source": [
    "for result in search:\n",
    "    print result['identifier']"
   ]
  },
  {
   "cell_type": "markdown",
   "metadata": {},
   "source": [
    "### Relation contains"
   ]
  },
  {
   "cell_type": "code",
   "execution_count": 26,
   "metadata": {},
   "outputs": [],
   "source": [
    "buffer_size = 4\n",
    "\n",
    "extended_aoi_wkt = box(*loads(aoi_wkt).buffer(buffer_size).bounds).wkt\n"
   ]
  },
  {
   "cell_type": "code",
   "execution_count": 34,
   "metadata": {},
   "outputs": [],
   "source": [
    "search_params = dict([(geo_relation_parameter['name'], \n",
    "                       options[1]),\n",
    "                     (wkt_parameter['name'], extended_aoi_wkt)])"
   ]
  },
  {
   "cell_type": "code",
   "execution_count": 35,
   "metadata": {},
   "outputs": [
    {
     "data": {
      "text/plain": [
       "{'geom': 'POLYGON ((24.9113 35.4866, 24.9113 44.0866, 16.3113 44.0866, 16.3113 35.4866, 24.9113 35.4866))',\n",
       " 'rel': 'contains'}"
      ]
     },
     "execution_count": 35,
     "metadata": {},
     "output_type": "execute_result"
    }
   ],
   "source": [
    "search_params"
   ]
  },
  {
   "cell_type": "code",
   "execution_count": 36,
   "metadata": {},
   "outputs": [],
   "source": [
    "search = ciop.search(end_point=s1_osd_url,\n",
    "                     params=search_params,\n",
    "                     output_fields='self,productType,track,enclosure,identifier,wkt,startdate', \n",
    "                     model='EOP')"
   ]
  },
  {
   "cell_type": "markdown",
   "metadata": {},
   "source": [
    "### Relation disjoint"
   ]
  },
  {
   "cell_type": "code",
   "execution_count": 42,
   "metadata": {},
   "outputs": [],
   "source": [
    "buffer_size = 15\n",
    "\n",
    "extended_aoi_wkt = box(*loads(aoi_wkt).buffer(buffer_size).bounds).wkt\n"
   ]
  },
  {
   "cell_type": "code",
   "execution_count": 43,
   "metadata": {},
   "outputs": [],
   "source": [
    "search_params = dict([(geo_relation_parameter['name'], \n",
    "                       options[2]),\n",
    "                     (wkt_parameter['name'], extended_aoi_wkt)])"
   ]
  },
  {
   "cell_type": "code",
   "execution_count": 44,
   "metadata": {},
   "outputs": [
    {
     "data": {
      "text/plain": [
       "{'geom': 'POLYGON ((35.9113 24.4866, 35.9113 55.0866, 5.311299999999999 55.0866, 5.311299999999999 24.4866, 35.9113 24.4866))',\n",
       " 'rel': 'disjoint'}"
      ]
     },
     "execution_count": 44,
     "metadata": {},
     "output_type": "execute_result"
    }
   ],
   "source": [
    "search_params"
   ]
  },
  {
   "cell_type": "code",
   "execution_count": 46,
   "metadata": {},
   "outputs": [],
   "source": [
    "search = ciop.search(end_point=s1_osd_url,\n",
    "                     params=search_params,\n",
    "                     output_fields='self,productType,track,enclosure,identifier,wkt,startdate', \n",
    "                     model='EOP')"
   ]
  },
  {
   "cell_type": "code",
   "execution_count": 47,
   "metadata": {},
   "outputs": [
    {
     "name": "stdout",
     "output_type": "stream",
     "text": [
      "S1A_EW_RAW__0SDV_20181023T073503_20181023T073606_024260_02A7A5_D52C\n",
      "S1A_EW_RAW__0SDV_20181023T073403_20181023T073512_024260_02A7A5_B65C\n",
      "S1A_EW_RAW__0SDV_20181023T073303_20181023T073412_024260_02A7A5_0A53\n",
      "S1A_EW_RAW__0SDV_20181023T073203_20181023T073312_024260_02A7A5_B5B2\n",
      "S1A_EW_RAW__0SDH_20181023T072540_20181023T072619_024260_02A7A4_7F54\n",
      "S1A_EW_RAW__0SDH_20181023T072440_20181023T072548_024260_02A7A4_1451\n",
      "S1A_EW_RAW__0SDH_20181023T072340_20181023T072448_024260_02A7A4_33AB\n",
      "S1A_EW_RAW__0SDH_20181023T072240_20181023T072348_024260_02A7A4_50D5\n",
      "S1A_EW_RAW__0SDH_20181023T072140_20181023T072248_024260_02A7A4_57B4\n",
      "S1A_EW_RAW__0SDH_20181023T072040_20181023T072148_024260_02A7A4_FE27\n",
      "S1A_IW_RAW__0SDV_20181023T070843_20181023T070914_024260_02A7A1_8403\n",
      "S1A_IW_RAW__0SDV_20181023T070818_20181023T070850_024260_02A7A1_244B\n",
      "S1B_IW_RAW__0SDV_20181023T064709_20181023T064736_013276_0188B3_8D4E\n",
      "S1B_IW_RAW__0SDV_20181023T064644_20181023T064716_013276_0188B3_6784\n",
      "S1B_IW_RAW__0SDV_20181023T064619_20181023T064651_013276_0188B3_EEFF\n",
      "S1B_IW_RAW__0SDV_20181023T064554_20181023T064626_013276_0188B3_DD07\n",
      "S1B_IW_RAW__0SDV_20181023T064529_20181023T064601_013276_0188B3_706C\n",
      "S1B_IW_RAW__0SDV_20181023T064504_20181023T064536_013276_0188B3_1836\n",
      "S1B_IW_RAW__0SDV_20181023T064439_20181023T064511_013276_0188B3_7510\n",
      "S1B_IW_RAW__0SDV_20181023T064414_20181023T064446_013276_0188B3_E7EF\n"
     ]
    }
   ],
   "source": [
    "for result in search:\n",
    "    print result['identifier']"
   ]
  },
  {
   "cell_type": "code",
   "execution_count": null,
   "metadata": {},
   "outputs": [],
   "source": []
  }
 ],
 "metadata": {
  "kernelspec": {
   "display_name": "Python 2",
   "language": "python",
   "name": "python2"
  },
  "language_info": {
   "codemirror_mode": {
    "name": "ipython",
    "version": 2
   },
   "file_extension": ".py",
   "mimetype": "text/x-python",
   "name": "python",
   "nbconvert_exporter": "python",
   "pygments_lexer": "ipython2",
   "version": "2.7.12"
  }
 },
 "nbformat": 4,
 "nbformat_minor": 2
}
