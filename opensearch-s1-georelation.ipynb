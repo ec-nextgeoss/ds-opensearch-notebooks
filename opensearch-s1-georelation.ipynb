{
 "cells": [
  {
   "cell_type": "markdown",
   "metadata": {},
   "source": [
    "## Georelation explained"
   ]
  },
  {
   "cell_type": "code",
   "execution_count": 1,
   "metadata": {},
   "outputs": [],
   "source": [
    "import lxml.etree as etree\n",
    "import requests\n",
    "import cioppy\n",
    "\n",
    "import numpy as np\n",
    "import ipyleaflet\n",
    "from shapely.geometry import box\n",
    "from shapely.geometry import multipolygon\n",
    "from shapely.wkt import loads\n",
    "from ipyleaflet import Map, Polygon\n",
    "\n",
    "ciop = cioppy.Cioppy()"
   ]
  },
  {
   "cell_type": "code",
   "execution_count": 2,
   "metadata": {},
   "outputs": [],
   "source": [
    "def get_params(osd):\n",
    "\n",
    "    oss_ns = {'a':'http://www.w3.org/2001/XMLSchema', \n",
    "          'b':'http://www.w3.org/2001/XMLSchema-instance',\n",
    "          'c':'http://a9.com/-/opensearch/extensions/time/1.0/',\n",
    "          'd':'http://www.opengis.net/eop/2.0',\n",
    "          'e':'http://purl.org/dc/terms/',\n",
    "          'f':'http://a9.com/-/spec/opensearch/extensions/parameters/1.0/',\n",
    "          'g':'http://purl.org/dc/elements/1.1/',\n",
    "          'h':'http://www.terradue.com/opensearch',\n",
    "          'i':'http://a9.com/-/opensearch/extensions/geo/1.0/',\n",
    "          'j':'http://a9.com/-/spec/opensearch/1.1/'}\n",
    "    \n",
    "    oss_content = etree.fromstring(requests.get(osd).content)\n",
    "    \n",
    "    url_template_element = oss_content.xpath('/j:OpenSearchDescription/j:Url[@type=\"application/atom+xml\"]',\n",
    "                                                 namespaces=oss_ns)[0]\n",
    "    \n",
    "    parameters = dict()\n",
    "    \n",
    "    for index, parameter in enumerate(url_template_element.xpath('.//f:Parameter', namespaces=oss_ns)):\n",
    "        \n",
    "        parameters[parameter.attrib['name']] = {'title' : parameter.attrib['title'], \n",
    "                                                'value' : parameter.attrib['value']}\n",
    "        \n",
    "        options = []\n",
    "        for option in parameter.xpath('.//f:Option', namespaces=oss_ns):\n",
    "            \n",
    "            options.append(option.attrib['value'])\n",
    "    \n",
    "        parameters[parameter.attrib['name']] = {'title' : parameter.attrib['title'], \n",
    "                                                'value' : parameter.attrib['value'],\n",
    "                                                'options' : options}\n",
    "    return parameters"
   ]
  },
  {
   "cell_type": "code",
   "execution_count": 3,
   "metadata": {},
   "outputs": [],
   "source": [
    "def get_param_value(osd, os_parameter):\n",
    "\n",
    "    params = get_params(osd)\n",
    "\n",
    "    res = None\n",
    "    \n",
    "    for index, param in enumerate(params):\n",
    "        \n",
    "        if params[param]['value'] == os_parameter:\n",
    "            \n",
    "            res = params[param]\n",
    "            res['name'] = param\n",
    "     \n",
    "    return res"
   ]
  },
  {
   "cell_type": "markdown",
   "metadata": {},
   "source": [
    "Define the Sentinel-1 endpoint"
   ]
  },
  {
   "cell_type": "code",
   "execution_count": 4,
   "metadata": {},
   "outputs": [],
   "source": [
    "s1_osd_url = 'https://catalog.terradue.com/sentinel1/description'"
   ]
  },
  {
   "cell_type": "markdown",
   "metadata": {},
   "source": [
    "Get the Sentinel-1 search parameters"
   ]
  },
  {
   "cell_type": "code",
   "execution_count": 5,
   "metadata": {},
   "outputs": [],
   "source": [
    "s1_parameters = get_params(s1_osd_url)"
   ]
  },
  {
   "cell_type": "markdown",
   "metadata": {},
   "source": [
    "Print all the OpenSearch parameters"
   ]
  },
  {
   "cell_type": "code",
   "execution_count": 6,
   "metadata": {},
   "outputs": [
    {
     "name": "stdout",
     "output_type": "stream",
     "text": [
      "              {geo:uid?} The identifier of the resource within the search engine context (local reference)\n",
      "    {t2:downloadOrigin?} a string that identifies the download origin (keyword, hostname...) to adapt the enclosure. If the parameter is enclosed between [] (e.g. [terradue]), enclosure will be returned only if there is a enclosure found for this source.\n",
      "           {startIndex?} index of the first search result desired\n",
      "            {startPage?} page number of the set of search results desired\n",
      "       {eop:sensorType?} A string identifying the sensor type\n",
      "     {eop:accessedFrom?} A string identifying the location from which the resource will be accessed. The catalogue shall return the download location in the enclosure atom link according to the parameter value.\n",
      "         {t2:landCover?} A number, set or interval requesting the land coverage\n",
      "      {eop:productType?} A string identifying the product type\n",
      "            {eop:title?} A name given to the resource\n",
      "           {time:start?} start of the temporal interval (RFC-3339)\n",
      "  {eop:swathIdentifier?} Swath identifier that corresponds to precise incidence angles for the sensor\n",
      "         {geo:geometry?} Geometry in WKT\n",
      "         {geo:relation?} Spatial relation (possible values are “intersects”, “contains”, “disjoint”). The default is intersects.\n",
      " {eop:parentIdentifier?} A string identifying the collection of the entry in a hierarchy of dataset\n",
      "  {eop:processingLevel?} A string identifying the processing level applied to the dataset\n",
      "             {language?} desired language of the results\n",
      "{eop:platformSerialIdentifier?} A string with the Platform serial identifier\n",
      "         {eop:platform?} A string with the platform short name\n",
      "            {eop:track?} A number, set or interval requesting the range of orbit tracks \n",
      "{t2:doubleCheckGeomtry?} Set to apply a finer geometry filtering\n",
      "             {time:end?} stop of the temporal interval (RFC-3339)\n",
      "         {dct:modified?} date after which dataset are updated (RFC-3339)\n",
      "              {geo:box?} Rectangular bounding box\n",
      "                {count?} number of search results per page desired\n",
      "        {time:relation?} Temporal relation (possible values are “intersects”, “contains”, “during”, “disjoint”, “equals”)\n",
      "   {eop:orbitDirection?} A string identifying the orbit direction\n",
      "           {dc:subject?} The identifier of a category. Recommended best practice is to use a controlled vocabulary.\n",
      "          {searchTerms?} EO Free Text Search\n",
      "       {eop:instrument?} A string identifying the instrument\n",
      "        {eop:orbitType?} A string identifying the orbit type\n"
     ]
    }
   ],
   "source": [
    "for key, value in s1_parameters.iteritems():\n",
    "\n",
    "    print '%24s' % s1_parameters[key]['value'],  s1_parameters[key]['title'] "
   ]
  },
  {
   "cell_type": "markdown",
   "metadata": {},
   "source": [
    "Find the parameter associated to **'{eop:productType?}'** and its options"
   ]
  },
  {
   "cell_type": "code",
   "execution_count": 7,
   "metadata": {},
   "outputs": [],
   "source": [
    "geo_relation_parameter = get_param_value(s1_osd_url, '{geo:relation?}')"
   ]
  },
  {
   "cell_type": "code",
   "execution_count": 8,
   "metadata": {},
   "outputs": [
    {
     "data": {
      "text/plain": [
       "'rel'"
      ]
     },
     "execution_count": 8,
     "metadata": {},
     "output_type": "execute_result"
    }
   ],
   "source": [
    "geo_relation_parameter['name']"
   ]
  },
  {
   "cell_type": "code",
   "execution_count": 9,
   "metadata": {},
   "outputs": [],
   "source": [
    "options = s1_parameters[geo_relation_parameter['name']]['options']"
   ]
  },
  {
   "cell_type": "code",
   "execution_count": 10,
   "metadata": {},
   "outputs": [
    {
     "data": {
      "text/plain": [
       "['intersects', 'contains', 'disjoint']"
      ]
     },
     "execution_count": 10,
     "metadata": {},
     "output_type": "execute_result"
    }
   ],
   "source": [
    "options"
   ]
  },
  {
   "cell_type": "markdown",
   "metadata": {},
   "source": [
    "Define an area of interest"
   ]
  },
  {
   "cell_type": "code",
   "execution_count": 11,
   "metadata": {},
   "outputs": [],
   "source": [
    "aoi_wkt = 'POLYGON ((20.9113 39.4866, 20.9113 40.0866, 20.3113 40.0866, 20.3113 39.4866, 20.9113 39.4866))'"
   ]
  },
  {
   "cell_type": "markdown",
   "metadata": {},
   "source": [
    "Find the **{geo:geometry?}** parameter name"
   ]
  },
  {
   "cell_type": "code",
   "execution_count": 12,
   "metadata": {},
   "outputs": [],
   "source": [
    "wkt_parameter = get_param_value(s1_osd_url, '{geo:geometry?}')"
   ]
  },
  {
   "cell_type": "code",
   "execution_count": 13,
   "metadata": {},
   "outputs": [
    {
     "data": {
      "text/plain": [
       "{'name': 'geom',\n",
       " 'options': [],\n",
       " 'title': 'Geometry in WKT',\n",
       " 'value': '{geo:geometry?}'}"
      ]
     },
     "execution_count": 13,
     "metadata": {},
     "output_type": "execute_result"
    }
   ],
   "source": [
    "wkt_parameter"
   ]
  },
  {
   "cell_type": "markdown",
   "metadata": {},
   "source": [
    "### Relation intersects"
   ]
  },
  {
   "cell_type": "code",
   "execution_count": 14,
   "metadata": {},
   "outputs": [],
   "source": [
    "search_params = dict([(geo_relation_parameter['name'], \n",
    "                       options[0]),\n",
    "                    (wkt_parameter['name'], aoi_wkt)])"
   ]
  },
  {
   "cell_type": "code",
   "execution_count": 15,
   "metadata": {},
   "outputs": [
    {
     "data": {
      "text/plain": [
       "{'geom': 'POLYGON ((20.9113 39.4866, 20.9113 40.0866, 20.3113 40.0866, 20.3113 39.4866, 20.9113 39.4866))',\n",
       " 'rel': 'intersects'}"
      ]
     },
     "execution_count": 15,
     "metadata": {},
     "output_type": "execute_result"
    }
   ],
   "source": [
    "search_params"
   ]
  },
  {
   "cell_type": "code",
   "execution_count": 16,
   "metadata": {},
   "outputs": [],
   "source": [
    "search = ciop.search(end_point=s1_osd_url,\n",
    "                     params=search_params,\n",
    "                     output_fields='self,productType,track,enclosure,identifier,wkt,startdate', \n",
    "                     model='EOP')"
   ]
  },
  {
   "cell_type": "markdown",
   "metadata": {},
   "source": [
    "Show the first result returned"
   ]
  },
  {
   "cell_type": "code",
   "execution_count": 17,
   "metadata": {},
   "outputs": [
    {
     "data": {
      "application/vnd.jupyter.widget-view+json": {
       "model_id": "d9a525578a0646aa9c6f9118878bde20",
       "version_major": 2,
       "version_minor": 0
      },
      "text/plain": [
       "Map(basemap={'url': 'https://{s}.tile.openstreetmap.org/{z}/{x}/{y}.png', 'max_zoom': 19, 'attribution': 'Map …"
      ]
     },
     "metadata": {},
     "output_type": "display_data"
    }
   ],
   "source": [
    "m = Map(center=(39, 24), zoom=6)\n",
    "\n",
    "aoi = Polygon(\n",
    "    locations=np.asarray([t[::-1] for t in list(loads(aoi_wkt).exterior.coords)]).tolist(),\n",
    "    color=\"green\",\n",
    "    fill_color=\"green\",\n",
    "    weight=2\n",
    ")\n",
    "\n",
    "for index, elem in enumerate(search):\n",
    "\n",
    "    m += Polygon(locations=np.asarray([t[::-1] for t in list(loads(elem['wkt']).exterior.coords)]).tolist(), color=\"red\", fill_color=\"red\", weight=1, fill_opacity=0.1)\n",
    "\n",
    "m.add_layer(aoi);\n",
    "\n",
    "m"
   ]
  },
  {
   "cell_type": "markdown",
   "metadata": {},
   "source": [
    "### Relation contains"
   ]
  },
  {
   "cell_type": "code",
   "execution_count": 19,
   "metadata": {},
   "outputs": [],
   "source": [
    "buffer_size = 4\n",
    "\n",
    "extended_aoi_wkt = box(*loads(aoi_wkt).buffer(buffer_size).bounds).wkt\n"
   ]
  },
  {
   "cell_type": "code",
   "execution_count": 20,
   "metadata": {},
   "outputs": [],
   "source": [
    "search_params = dict([(geo_relation_parameter['name'], \n",
    "                       options[1]),\n",
    "                     (wkt_parameter['name'], extended_aoi_wkt)])"
   ]
  },
  {
   "cell_type": "code",
   "execution_count": 21,
   "metadata": {},
   "outputs": [
    {
     "data": {
      "text/plain": [
       "{'geom': 'POLYGON ((24.9113 35.4866, 24.9113 44.0866, 16.3113 44.0866, 16.3113 35.4866, 24.9113 35.4866))',\n",
       " 'rel': 'contains'}"
      ]
     },
     "execution_count": 21,
     "metadata": {},
     "output_type": "execute_result"
    }
   ],
   "source": [
    "search_params"
   ]
  },
  {
   "cell_type": "code",
   "execution_count": 22,
   "metadata": {},
   "outputs": [],
   "source": [
    "search = ciop.search(end_point=s1_osd_url,\n",
    "                     params=search_params,\n",
    "                     output_fields='self,productType,track,enclosure,identifier,wkt,startdate', \n",
    "                     model='EOP')"
   ]
  },
  {
   "cell_type": "code",
   "execution_count": 23,
   "metadata": {},
   "outputs": [
    {
     "data": {
      "application/vnd.jupyter.widget-view+json": {
       "model_id": "ec00643497ae4ff8ab3f3c39c71d2098",
       "version_major": 2,
       "version_minor": 0
      },
      "text/plain": [
       "Map(basemap={'url': 'https://{s}.tile.openstreetmap.org/{z}/{x}/{y}.png', 'max_zoom': 19, 'attribution': 'Map …"
      ]
     },
     "metadata": {},
     "output_type": "display_data"
    }
   ],
   "source": [
    "m = Map(center=(39, 24), zoom=5)\n",
    "\n",
    "aoi = Polygon(\n",
    "    locations=np.asarray([t[::-1] for t in list(loads(extended_aoi_wkt).exterior.coords)]).tolist(),\n",
    "    color=\"green\",\n",
    "    fill_color=\"green\",\n",
    "    weight=2\n",
    ")\n",
    "\n",
    "for index, elem in enumerate(search):\n",
    "\n",
    "    m += Polygon(locations=np.asarray([t[::-1] for t in list(loads(elem['wkt']).exterior.coords)]).tolist(), color=\"red\", fill_color=\"red\", weight=1, fill_opacity=0.1)\n",
    "\n",
    "m.add_layer(aoi);\n",
    "\n",
    "m"
   ]
  },
  {
   "cell_type": "markdown",
   "metadata": {},
   "source": [
    "### Relation disjoint"
   ]
  },
  {
   "cell_type": "code",
   "execution_count": 24,
   "metadata": {},
   "outputs": [],
   "source": [
    "buffer_size = 15\n",
    "\n",
    "extended_aoi_wkt = box(*loads(aoi_wkt).buffer(buffer_size).bounds).wkt\n"
   ]
  },
  {
   "cell_type": "code",
   "execution_count": 25,
   "metadata": {},
   "outputs": [],
   "source": [
    "search_params = dict([(geo_relation_parameter['name'], \n",
    "                       options[2]),\n",
    "                     (wkt_parameter['name'], extended_aoi_wkt)])"
   ]
  },
  {
   "cell_type": "code",
   "execution_count": 26,
   "metadata": {},
   "outputs": [
    {
     "data": {
      "text/plain": [
       "{'geom': 'POLYGON ((35.9113 24.4866, 35.9113 55.0866, 5.311299999999999 55.0866, 5.311299999999999 24.4866, 35.9113 24.4866))',\n",
       " 'rel': 'disjoint'}"
      ]
     },
     "execution_count": 26,
     "metadata": {},
     "output_type": "execute_result"
    }
   ],
   "source": [
    "search_params"
   ]
  },
  {
   "cell_type": "code",
   "execution_count": 27,
   "metadata": {},
   "outputs": [],
   "source": [
    "search = ciop.search(end_point=s1_osd_url,\n",
    "                     params=search_params,\n",
    "                     output_fields='self,productType,track,enclosure,identifier,wkt,startdate', \n",
    "                     model='EOP')"
   ]
  },
  {
   "cell_type": "code",
   "execution_count": 28,
   "metadata": {},
   "outputs": [
    {
     "data": {
      "application/vnd.jupyter.widget-view+json": {
       "model_id": "2bff0eb9066340eca63581a594c99a23",
       "version_major": 2,
       "version_minor": 0
      },
      "text/plain": [
       "Map(basemap={'url': 'https://{s}.tile.openstreetmap.org/{z}/{x}/{y}.png', 'max_zoom': 19, 'attribution': 'Map …"
      ]
     },
     "metadata": {},
     "output_type": "display_data"
    }
   ],
   "source": [
    "m = Map(center=(39, 24), zoom=1)\n",
    "\n",
    "aoi = Polygon(\n",
    "    locations=np.asarray([t[::-1] for t in list(loads(extended_aoi_wkt).exterior.coords)]).tolist(),\n",
    "    color=\"green\",\n",
    "    fill_color=\"green\",\n",
    "    weight=2\n",
    ")\n",
    "\n",
    "for index, elem in enumerate(search):\n",
    "    \n",
    "    if not(isinstance(loads(elem['wkt']), multipolygon.MultiPolygon)):\n",
    "        m += Polygon(locations=np.asarray([t[::-1] for t in list(loads(elem['wkt']).exterior.coords)]).tolist(), color=\"red\", fill_color=\"red\", weight=1, fill_opacity=0.1)\n",
    "\n",
    "m.add_layer(aoi);\n",
    "\n",
    "m"
   ]
  },
  {
   "cell_type": "code",
   "execution_count": null,
   "metadata": {},
   "outputs": [],
   "source": []
  },
  {
   "cell_type": "code",
   "execution_count": null,
   "metadata": {},
   "outputs": [],
   "source": []
  }
 ],
 "metadata": {
  "kernelspec": {
   "display_name": "Python 2",
   "language": "python",
   "name": "python2"
  },
  "language_info": {
   "codemirror_mode": {
    "name": "ipython",
    "version": 2
   },
   "file_extension": ".py",
   "mimetype": "text/x-python",
   "name": "python",
   "nbconvert_exporter": "python",
   "pygments_lexer": "ipython2",
   "version": "2.7.12"
  }
 },
 "nbformat": 4,
 "nbformat_minor": 2
}
